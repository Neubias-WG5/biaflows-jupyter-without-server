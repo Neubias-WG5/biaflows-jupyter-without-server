{
 "cells": [
  {
   "cell_type": "markdown",
   "metadata": {},
   "source": [
    "# Executing a BIAFLOWS workflow without BIAFLOWS server"
   ]
  },
  {
   "cell_type": "markdown",
   "metadata": {},
   "source": [
    "It is possible to run a workflow image independently of any [BIAFLOWS](https://www.biorxiv.org/content/10.1101/707489v1) server. This can for instance be useful to process a local folder of images."
   ]
  },
  {
   "cell_type": "markdown",
   "metadata": {},
   "source": [
    "## Docker"
   ]
  },
  {
   "cell_type": "markdown",
   "metadata": {},
   "source": [
    "In order to run BIAFLOWS workflows, [docker](https://docs.docker.com/v17.12/install/) needs to be installed. \n",
    "In this notebook docker is already installed. We check if docker is present by displaying its version."
   ]
  },
  {
   "cell_type": "code",
   "execution_count": 7,
   "metadata": {},
   "outputs": [
    {
     "name": "stdout",
     "output_type": "stream",
     "text": [
      "Docker version 19.03.3, build a872fc2f86\r\n"
     ]
    }
   ],
   "source": [
    "!docker --version"
   ]
  },
  {
   "cell_type": "markdown",
   "metadata": {},
   "source": [
    "## Folders and images"
   ]
  },
  {
   "cell_type": "markdown",
   "metadata": {},
   "source": [
    "The BIAFLOWS-workflows need a specific folder structure. They expect a folder `data` containing three subfolders:\n",
    "* `in` - the folder containing the input images\n",
    "* `gt` - the folder containing the ground-truth images\n",
    "* `out` - the folder into which the workflow will write the result images"
   ]
  },
  {
   "cell_type": "markdown",
   "metadata": {},
   "source": [
    "The folders `data` and its subfolders `in` and the `gt` already exist in this notebook. They contain the input and ground-truth images for the benchmarking of 2D-spot-detection workflows. "
   ]
  },
  {
   "cell_type": "code",
   "execution_count": 3,
   "metadata": {},
   "outputs": [
    {
     "name": "stdout",
     "output_type": "stream",
     "text": [
      "gt  in\tout\r\n"
     ]
    }
   ],
   "source": [
    "!mkdir -p ./data/out; ls ./data"
   ]
  },
  {
   "cell_type": "code",
   "execution_count": 15,
   "metadata": {},
   "outputs": [
    {
     "name": "stdout",
     "output_type": "stream",
     "text": [
      ".   Img_0001_Spt.tif  Img_0003_Spt.tif\tImg_0005_Spt.tif\r\n",
      "..  Img_0002_Spt.tif  Img_0004_Spt.tif\r\n",
      ".   Img_0001_Spt_lbl.tif  Img_0003_Spt_lbl.tif\tImg_0005_Spt_lbl.tif\r\n",
      "..  Img_0002_Spt_lbl.tif  Img_0004_Spt_lbl.tif\r\n"
     ]
    }
   ],
   "source": [
    "!ls -a ./data/in; ls -a ./data/gt"
   ]
  },
  {
   "cell_type": "markdown",
   "metadata": {},
   "source": [
    "There must be a ground-truth image for each input image. The ground-truth image must have the same name as the ground-truth image followed by the postfix `_lbl`."
   ]
  },
  {
   "cell_type": "markdown",
   "metadata": {},
   "source": [
    "**Note**: If you just want to run a workflow and you do not want to do benchmarking, you do not need the ground-truth images."
   ]
  },
  {
   "cell_type": "markdown",
   "metadata": {},
   "source": [
    "## Running a workflow"
   ]
  },
  {
   "cell_type": "code",
   "execution_count": null,
   "metadata": {
    "collapsed": true
   },
   "outputs": [],
   "source": []
  }
 ],
 "metadata": {
  "kernelspec": {
   "display_name": "Python 3",
   "language": "python",
   "name": "python3"
  },
  "language_info": {
   "codemirror_mode": {
    "name": "ipython",
    "version": 3
   },
   "file_extension": ".py",
   "mimetype": "text/x-python",
   "name": "python",
   "nbconvert_exporter": "python",
   "pygments_lexer": "ipython3",
   "version": "3.6.2"
  }
 },
 "nbformat": 4,
 "nbformat_minor": 2
}
