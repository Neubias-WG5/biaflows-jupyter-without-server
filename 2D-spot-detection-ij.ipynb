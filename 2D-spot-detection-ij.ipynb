{
 "cells": [
  {
   "cell_type": "markdown",
   "metadata": {},
   "source": [
    "# Executing a BIAFLOWS workflow without BIAFLOWS server"
   ]
  },
  {
   "cell_type": "markdown",
   "metadata": {},
   "source": [
    "It is possible to run a workflow image independently of any [BIAFLOWS](https://www.biorxiv.org/content/10.1101/707489v1) server. This can for instance be useful to process a local folder of images."
   ]
  },
  {
   "cell_type": "markdown",
   "metadata": {},
   "source": [
    "## Docker"
   ]
  },
  {
   "cell_type": "markdown",
   "metadata": {},
   "source": [
    "In order to run BIAFLOWS workflows, [docker](https://docs.docker.com/v17.12/install/) needs to be installed. \n",
    "In this notebook docker is already installed. We check if docker is present by displaying its version."
   ]
  },
  {
   "cell_type": "code",
   "execution_count": 1,
   "metadata": {},
   "outputs": [
    {
     "name": "stdout",
     "output_type": "stream",
     "text": [
      "Docker version 19.03.3, build a872fc2f86\r\n"
     ]
    }
   ],
   "source": [
    "!docker --version"
   ]
  },
  {
   "cell_type": "markdown",
   "metadata": {},
   "source": [
    "## Folders and images"
   ]
  },
  {
   "cell_type": "markdown",
   "metadata": {},
   "source": [
    "The BIAFLOWS-workflows need a specific folder structure. They expect a folder `data` containing three subfolders:\n",
    "* `in` - the folder containing the input images\n",
    "* `gt` - the folder containing the ground-truth images\n",
    "* `out` - the folder into which the workflow will write the result images"
   ]
  },
  {
   "cell_type": "markdown",
   "metadata": {},
   "source": [
    "The folders `data` and its subfolders `in` and the `gt` already exist in this notebook. They contain the input and ground-truth images for the benchmarking of 2D-spot-detection workflows. "
   ]
  },
  {
   "cell_type": "code",
   "execution_count": 2,
   "metadata": {},
   "outputs": [
    {
     "name": "stdout",
     "output_type": "stream",
     "text": [
      "gt  in\tout\r\n"
     ]
    }
   ],
   "source": [
    "!mkdir -p ./data/out; ls ./data"
   ]
  },
  {
   "cell_type": "code",
   "execution_count": 3,
   "metadata": {},
   "outputs": [
    {
     "name": "stdout",
     "output_type": "stream",
     "text": [
      ".   Img_0001_Spt.tif  Img_0003_Spt.tif\tImg_0005_Spt.tif\r\n",
      "..  Img_0002_Spt.tif  Img_0004_Spt.tif\r\n",
      ".   Img_0001_Spt_lbl.tif  Img_0003_Spt_lbl.tif\tImg_0005_Spt_lbl.tif\r\n",
      "..  Img_0002_Spt_lbl.tif  Img_0004_Spt_lbl.tif\r\n"
     ]
    }
   ],
   "source": [
    "!ls -a ./data/in; ls -a ./data/gt"
   ]
  },
  {
   "cell_type": "markdown",
   "metadata": {},
   "source": [
    "There must be a ground-truth image for each input image. The ground-truth image must have the same name as the ground-truth image followed by the postfix `_lbl`."
   ]
  },
  {
   "cell_type": "markdown",
   "metadata": {},
   "source": [
    "**Note**: If you just want to run a workflow and you do not want to do benchmarking, you do not need the ground-truth images."
   ]
  },
  {
   "cell_type": "markdown",
   "metadata": {},
   "source": [
    "## Running a workflow"
   ]
  },
  {
   "cell_type": "code",
   "execution_count": 5,
   "metadata": {
    "scrolled": true
   },
   "outputs": [
    {
     "name": "stdout",
     "output_type": "stream",
     "text": [
      "  % Total    % Received % Xferd  Average Speed   Time    Time     Time  Current\n",
      "                                 Dload  Upload   Total   Spent    Left  Speed\n",
      "100 58.7M  100 58.7M    0     0  28.4M      0  0:00:02  0:00:02 --:--:-- 28.4M\n",
      "  % Total    % Received % Xferd  Average Speed   Time    Time     Time  Current\n",
      "                                 Dload  Upload   Total   Spent    Left  Speed\n",
      "100 18.0M  100 18.0M    0     0  22.6M      0 --:--:-- --:--:-- --:--:-- 22.6M\n",
      "# systemd not detected, dockerd daemon needs to be started manually\n",
      "\n",
      "/home/jovyan/bin/dockerd-rootless.sh --experimental --iptables=false --storage-driver vfs\n",
      "\n",
      "# Docker binaries are installed in /home/jovyan/bin\n",
      "# WARN: dockerd is not in your current PATH or pointing to /home/jovyan/bin/dockerd\n",
      "# Make sure the following environment variables are set (or add them to ~/.bashrc):\n",
      "\n",
      "export XDG_RUNTIME_DIR=/tmp/docker-1000\n",
      "export PATH=/home/jovyan/bin:$PATH\n",
      "export DOCKER_HOST=unix:///tmp/docker-1000/docker.sock\n",
      "\n"
     ]
    }
   ],
   "source": [
    "!sh rootless.sh"
   ]
  },
  {
   "cell_type": "code",
   "execution_count": 7,
   "metadata": {},
   "outputs": [
    {
     "name": "stdout",
     "output_type": "stream",
     "text": [
      "export BINDER_PORT='tcp://10.15.253.247:80'\r\n",
      "export BINDER_PORT_80_TCP='tcp://10.15.253.247:80'\r\n",
      "export BINDER_PORT_80_TCP_ADDR='10.15.253.247'\r\n",
      "export BINDER_PORT_80_TCP_PORT='80'\r\n",
      "export BINDER_PORT_80_TCP_PROTO='tcp'\r\n",
      "export BINDER_SERVICE_HOST='10.15.253.247'\r\n",
      "export BINDER_SERVICE_PORT='80'\r\n",
      "export CLICOLOR='1'\r\n",
      "export CONDA_DIR='/opt/conda'\r\n",
      "export CPU_GUARANTEE='0.01'\r\n",
      "export CPU_LIMIT='1.0'\r\n",
      "export DEBIAN_FRONTEND='noninteractive'\r\n",
      "export FEDERATION_REDIRECT_PORT='tcp://10.15.242.219:80'\r\n",
      "export FEDERATION_REDIRECT_PORT_80_TCP='tcp://10.15.242.219:80'\r\n",
      "export FEDERATION_REDIRECT_PORT_80_TCP_ADDR='10.15.242.219'\r\n",
      "export FEDERATION_REDIRECT_PORT_80_TCP_PORT='80'\r\n",
      "export FEDERATION_REDIRECT_PORT_80_TCP_PROTO='tcp'\r\n",
      "export FEDERATION_REDIRECT_SERVICE_HOST='10.15.242.219'\r\n",
      "export FEDERATION_REDIRECT_SERVICE_PORT='80'\r\n",
      "export GCS_PROXY_PORT='tcp://10.15.251.138:80'\r\n",
      "export GCS_PROXY_PORT_80_TCP='tcp://10.15.251.138:80'\r\n",
      "export GCS_PROXY_PORT_80_TCP_ADDR='10.15.251.138'\r\n",
      "export GCS_PROXY_PORT_80_TCP_PORT='80'\r\n",
      "export GCS_PROXY_PORT_80_TCP_PROTO='tcp'\r\n",
      "export GCS_PROXY_SERVICE_HOST='10.15.251.138'\r\n",
      "export GCS_PROXY_SERVICE_PORT='80'\r\n",
      "export GIT_PAGER='cat'\r\n",
      "export HOME='/home/jovyan'\r\n",
      "export HOSTNAME='jupyter-neubias-2dwg5-2dbia-2d-2dwithout-2dserver-2d3yeiya3g'\r\n",
      "export HUB_PORT='tcp://10.15.251.161:8081'\r\n",
      "export HUB_PORT_8081_TCP='tcp://10.15.251.161:8081'\r\n",
      "export HUB_PORT_8081_TCP_ADDR='10.15.251.161'\r\n",
      "export HUB_PORT_8081_TCP_PORT='8081'\r\n",
      "export HUB_PORT_8081_TCP_PROTO='tcp'\r\n",
      "export HUB_SERVICE_HOST='10.15.251.161'\r\n",
      "export HUB_SERVICE_PORT='8081'\r\n",
      "export JPY_API_TOKEN='6d71af7f76904809a5416073d3d7146e'\r\n",
      "export JPY_PARENT_PID='6'\r\n",
      "export JUPYTERHUB_ACTIVITY_URL='http://10.15.251.161:8081/hub/api/users/neubias-wg5-bia--without-server-3yeiya3g/activity'\r\n",
      "export JUPYTERHUB_ADMIN_ACCESS='1'\r\n",
      "export JUPYTERHUB_API_TOKEN='6d71af7f76904809a5416073d3d7146e'\r\n",
      "export JUPYTERHUB_API_URL='http://10.15.251.161:8081/hub/api'\r\n",
      "export JUPYTERHUB_BASE_URL='/'\r\n",
      "export JUPYTERHUB_CLIENT_ID='jupyterhub-user-neubias-wg5-bia--without-server-3yeiya3g'\r\n",
      "export JUPYTERHUB_HOST=''\r\n",
      "export JUPYTERHUB_OAUTH_CALLBACK_URL='/user/neubias-wg5-bia--without-server-3yeiya3g/oauth_callback'\r\n",
      "export JUPYTERHUB_SERVER_NAME=''\r\n",
      "export JUPYTERHUB_SERVICE_PREFIX='/user/neubias-wg5-bia--without-server-3yeiya3g/'\r\n",
      "export JUPYTERHUB_USER='neubias-wg5-bia--without-server-3yeiya3g'\r\n",
      "export JUPYTER_IMAGE='gcr.io/binder-prod/r2d-f18835fd-neubias-2dwg5-2dbiaflows-2djupyter-2dwithout-2dserver-d00bea:0188f78967da40bd513aa92ad3fc9d49a9f27b9a'\r\n",
      "export JUPYTER_IMAGE_SPEC='gcr.io/binder-prod/r2d-f18835fd-neubias-2dwg5-2dbiaflows-2djupyter-2dwithout-2dserver-d00bea:0188f78967da40bd513aa92ad3fc9d49a9f27b9a'\r\n",
      "export KUBERNETES_PORT='tcp://10.15.240.1:443'\r\n",
      "export KUBERNETES_PORT_443_TCP='tcp://10.15.240.1:443'\r\n",
      "export KUBERNETES_PORT_443_TCP_ADDR='10.15.240.1'\r\n",
      "export KUBERNETES_PORT_443_TCP_PORT='443'\r\n",
      "export KUBERNETES_PORT_443_TCP_PROTO='tcp'\r\n",
      "export KUBERNETES_SERVICE_HOST='10.15.240.1'\r\n",
      "export KUBERNETES_SERVICE_PORT='443'\r\n",
      "export KUBERNETES_SERVICE_PORT_HTTPS='443'\r\n",
      "export KUBE_LEGO_NGINX_PORT='tcp://10.15.250.178:8080'\r\n",
      "export KUBE_LEGO_NGINX_PORT_8080_TCP='tcp://10.15.250.178:8080'\r\n",
      "export KUBE_LEGO_NGINX_PORT_8080_TCP_ADDR='10.15.250.178'\r\n",
      "export KUBE_LEGO_NGINX_PORT_8080_TCP_PORT='8080'\r\n",
      "export KUBE_LEGO_NGINX_PORT_8080_TCP_PROTO='tcp'\r\n",
      "export KUBE_LEGO_NGINX_SERVICE_HOST='10.15.250.178'\r\n",
      "export KUBE_LEGO_NGINX_SERVICE_PORT='8080'\r\n",
      "export LANG='en_US.UTF-8'\r\n",
      "export LANGUAGE='en_US.UTF-8'\r\n",
      "export LC_ALL='en_US.UTF-8'\r\n",
      "export MATOMO_PORT='tcp://10.15.244.111:9000'\r\n",
      "export MATOMO_PORT_9000_TCP='tcp://10.15.244.111:9000'\r\n",
      "export MATOMO_PORT_9000_TCP_ADDR='10.15.244.111'\r\n",
      "export MATOMO_PORT_9000_TCP_PORT='9000'\r\n",
      "export MATOMO_PORT_9000_TCP_PROTO='tcp'\r\n",
      "export MATOMO_SERVICE_HOST='10.15.244.111'\r\n",
      "export MATOMO_SERVICE_PORT='9000'\r\n",
      "export MATOMO_SERVICE_PORT_MATOMO='9000'\r\n",
      "export MEM_GUARANTEE='576716800'\r\n",
      "export MEM_LIMIT='2147483648'\r\n",
      "export MINICONDA_VERSION='4.3.21'\r\n",
      "export MPLBACKEND='module://ipykernel.pylab.backend_inline'\r\n",
      "export NB_GID='100'\r\n",
      "export NB_UID='1000'\r\n",
      "export NB_USER='jovyan'\r\n",
      "export PAGER='cat'\r\n",
      "export PATH='/opt/conda/bin:/usr/local/sbin:/usr/local/bin:/usr/sbin:/usr/bin:/sbin:/bin'\r\n",
      "export PROD_GRAFANA_PORT='tcp://10.15.251.198:80'\r\n",
      "export PROD_GRAFANA_PORT_80_TCP='tcp://10.15.251.198:80'\r\n",
      "export PROD_GRAFANA_PORT_80_TCP_ADDR='10.15.251.198'\r\n",
      "export PROD_GRAFANA_PORT_80_TCP_PORT='80'\r\n",
      "export PROD_GRAFANA_PORT_80_TCP_PROTO='tcp'\r\n",
      "export PROD_GRAFANA_SERVICE_HOST='10.15.251.198'\r\n",
      "export PROD_GRAFANA_SERVICE_PORT='80'\r\n",
      "export PROD_GRAFANA_SERVICE_PORT_SERVICE='80'\r\n",
      "export PROD_NGINX_INGRESS_CONTROLLER_METRICS_PORT='tcp://10.15.242.50:9913'\r\n",
      "export PROD_NGINX_INGRESS_CONTROLLER_METRICS_PORT_9913_TCP='tcp://10.15.242.50:9913'\r\n",
      "export PROD_NGINX_INGRESS_CONTROLLER_METRICS_PORT_9913_TCP_ADDR='10.15.242.50'\r\n",
      "export PROD_NGINX_INGRESS_CONTROLLER_METRICS_PORT_9913_TCP_PORT='9913'\r\n",
      "export PROD_NGINX_INGRESS_CONTROLLER_METRICS_PORT_9913_TCP_PROTO='tcp'\r\n",
      "export PROD_NGINX_INGRESS_CONTROLLER_METRICS_SERVICE_HOST='10.15.242.50'\r\n",
      "export PROD_NGINX_INGRESS_CONTROLLER_METRICS_SERVICE_PORT='9913'\r\n",
      "export PROD_NGINX_INGRESS_CONTROLLER_METRICS_SERVICE_PORT_METRICS='9913'\r\n",
      "export PROD_NGINX_INGRESS_CONTROLLER_PORT='tcp://10.15.245.211:80'\r\n",
      "export PROD_NGINX_INGRESS_CONTROLLER_PORT_443_TCP='tcp://10.15.245.211:443'\r\n",
      "export PROD_NGINX_INGRESS_CONTROLLER_PORT_443_TCP_ADDR='10.15.245.211'\r\n",
      "export PROD_NGINX_INGRESS_CONTROLLER_PORT_443_TCP_PORT='443'\r\n",
      "export PROD_NGINX_INGRESS_CONTROLLER_PORT_443_TCP_PROTO='tcp'\r\n",
      "export PROD_NGINX_INGRESS_CONTROLLER_PORT_80_TCP='tcp://10.15.245.211:80'\r\n",
      "export PROD_NGINX_INGRESS_CONTROLLER_PORT_80_TCP_ADDR='10.15.245.211'\r\n",
      "export PROD_NGINX_INGRESS_CONTROLLER_PORT_80_TCP_PORT='80'\r\n",
      "export PROD_NGINX_INGRESS_CONTROLLER_PORT_80_TCP_PROTO='tcp'\r\n",
      "export PROD_NGINX_INGRESS_CONTROLLER_SERVICE_HOST='10.15.245.211'\r\n",
      "export PROD_NGINX_INGRESS_CONTROLLER_SERVICE_PORT='80'\r\n",
      "export PROD_NGINX_INGRESS_CONTROLLER_SERVICE_PORT_HTTP='80'\r\n",
      "export PROD_NGINX_INGRESS_CONTROLLER_SERVICE_PORT_HTTPS='443'\r\n",
      "export PROD_NGINX_INGRESS_CONTROLLER_STATS_PORT='tcp://10.15.250.50:18080'\r\n",
      "export PROD_NGINX_INGRESS_CONTROLLER_STATS_PORT_18080_TCP='tcp://10.15.250.50:18080'\r\n",
      "export PROD_NGINX_INGRESS_CONTROLLER_STATS_PORT_18080_TCP_ADDR='10.15.250.50'\r\n",
      "export PROD_NGINX_INGRESS_CONTROLLER_STATS_PORT_18080_TCP_PORT='18080'\r\n",
      "export PROD_NGINX_INGRESS_CONTROLLER_STATS_PORT_18080_TCP_PROTO='tcp'\r\n",
      "export PROD_NGINX_INGRESS_CONTROLLER_STATS_SERVICE_HOST='10.15.250.50'\r\n",
      "export PROD_NGINX_INGRESS_CONTROLLER_STATS_SERVICE_PORT='18080'\r\n",
      "export PROD_NGINX_INGRESS_CONTROLLER_STATS_SERVICE_PORT_STATS='18080'\r\n",
      "export PROD_NGINX_INGRESS_DEFAULT_BACKEND_PORT='tcp://10.15.248.80:80'\r\n",
      "export PROD_NGINX_INGRESS_DEFAULT_BACKEND_PORT_80_TCP='tcp://10.15.248.80:80'\r\n",
      "export PROD_NGINX_INGRESS_DEFAULT_BACKEND_PORT_80_TCP_ADDR='10.15.248.80'\r\n",
      "export PROD_NGINX_INGRESS_DEFAULT_BACKEND_PORT_80_TCP_PORT='80'\r\n",
      "export PROD_NGINX_INGRESS_DEFAULT_BACKEND_PORT_80_TCP_PROTO='tcp'\r\n",
      "export PROD_NGINX_INGRESS_DEFAULT_BACKEND_SERVICE_HOST='10.15.248.80'\r\n",
      "export PROD_NGINX_INGRESS_DEFAULT_BACKEND_SERVICE_PORT='80'\r\n",
      "export PROD_NGINX_INGRESS_DEFAULT_BACKEND_SERVICE_PORT_HTTP='80'\r\n",
      "export PROD_PROMETHEUS_SERVER_PORT='tcp://10.15.244.184:80'\r\n",
      "export PROD_PROMETHEUS_SERVER_PORT_80_TCP='tcp://10.15.244.184:80'\r\n",
      "export PROD_PROMETHEUS_SERVER_PORT_80_TCP_ADDR='10.15.244.184'\r\n",
      "export PROD_PROMETHEUS_SERVER_PORT_80_TCP_PORT='80'\r\n",
      "export PROD_PROMETHEUS_SERVER_PORT_80_TCP_PROTO='tcp'\r\n",
      "export PROD_PROMETHEUS_SERVER_SERVICE_HOST='10.15.244.184'\r\n",
      "export PROD_PROMETHEUS_SERVER_SERVICE_PORT='80'\r\n",
      "export PROD_PROMETHEUS_SERVER_SERVICE_PORT_HTTP='80'\r\n",
      "export PROXY_API_PORT='tcp://10.15.240.3:8001'\r\n",
      "export PROXY_API_PORT_8001_TCP='tcp://10.15.240.3:8001'\r\n",
      "export PROXY_API_PORT_8001_TCP_ADDR='10.15.240.3'\r\n",
      "export PROXY_API_PORT_8001_TCP_PORT='8001'\r\n",
      "export PROXY_API_PORT_8001_TCP_PROTO='tcp'\r\n",
      "export PROXY_API_SERVICE_HOST='10.15.240.3'\r\n",
      "export PROXY_API_SERVICE_PORT='8001'\r\n",
      "export PROXY_PATCHES_PORT='tcp://10.15.245.144:80'\r\n",
      "export PROXY_PATCHES_PORT_80_TCP='tcp://10.15.245.144:80'\r\n",
      "export PROXY_PATCHES_PORT_80_TCP_ADDR='10.15.245.144'\r\n",
      "export PROXY_PATCHES_PORT_80_TCP_PORT='80'\r\n",
      "export PROXY_PATCHES_PORT_80_TCP_PROTO='tcp'\r\n",
      "export PROXY_PATCHES_SERVICE_HOST='10.15.245.144'\r\n",
      "export PROXY_PATCHES_SERVICE_PORT='80'\r\n",
      "export PROXY_PUBLIC_PORT='tcp://10.15.242.199:80'\r\n",
      "export PROXY_PUBLIC_PORT_443_TCP='tcp://10.15.242.199:443'\r\n",
      "export PROXY_PUBLIC_PORT_443_TCP_ADDR='10.15.242.199'\r\n",
      "export PROXY_PUBLIC_PORT_443_TCP_PORT='443'\r\n",
      "export PROXY_PUBLIC_PORT_443_TCP_PROTO='tcp'\r\n",
      "export PROXY_PUBLIC_PORT_80_TCP='tcp://10.15.242.199:80'\r\n",
      "export PROXY_PUBLIC_PORT_80_TCP_ADDR='10.15.242.199'\r\n",
      "export PROXY_PUBLIC_PORT_80_TCP_PORT='80'\r\n",
      "export PROXY_PUBLIC_PORT_80_TCP_PROTO='tcp'\r\n",
      "export PROXY_PUBLIC_SERVICE_HOST='10.15.242.199'\r\n",
      "export PROXY_PUBLIC_SERVICE_PORT='80'\r\n",
      "export PROXY_PUBLIC_SERVICE_PORT_HTTP='80'\r\n",
      "export PROXY_PUBLIC_SERVICE_PORT_HTTPS='443'\r\n",
      "export PWD='/home/jovyan'\r\n",
      "export REDIRECTOR_PORT='tcp://10.15.252.165:80'\r\n",
      "export REDIRECTOR_PORT_80_TCP='tcp://10.15.252.165:80'\r\n",
      "export REDIRECTOR_PORT_80_TCP_ADDR='10.15.252.165'\r\n",
      "export REDIRECTOR_PORT_80_TCP_PORT='80'\r\n",
      "export REDIRECTOR_PORT_80_TCP_PROTO='tcp'\r\n",
      "export REDIRECTOR_SERVICE_HOST='10.15.252.165'\r\n",
      "export REDIRECTOR_SERVICE_PORT='80'\r\n",
      "export SHELL='/bin/bash'\r\n",
      "export TERM='xterm-color'\r\n",
      "export USER='jovyan'\r\n",
      "export XDG_CACHE_HOME='/home/jovyan/.cache/'\r\n",
      "+ [ -w ]\r\n",
      "+ [ -w /home/jovyan ]\r\n",
      "+ rootlesskit=\r\n",
      "+ which docker-rootlesskit\r\n",
      "+ which rootlesskit\r\n",
      "+ rootlesskit=rootlesskit\r\n",
      "+ break\r\n",
      "+ [ -z rootlesskit ]\r\n",
      "+ : \r\n",
      "+ : \r\n",
      "+ : auto\r\n",
      "+ : auto\r\n",
      "+ net=\r\n",
      "+ mtu=\r\n",
      "+ [ -z ]\r\n",
      "+ which slirp4netns\r\n",
      "+ [ -z ]\r\n",
      "+ which vpnkit\r\n",
      "+ net=vpnkit\r\n",
      "+ [ -z ]\r\n",
      "+ mtu=1500\r\n",
      "+ [ -z ]\r\n",
      "+ _DOCKERD_ROOTLESS_CHILD=1\r\n",
      "+ export _DOCKERD_ROOTLESS_CHILD\r\n",
      "+ exec rootlesskit --net=vpnkit --mtu=1500 --slirp4netns-sandbox=auto --slirp4netns-seccomp=auto --disable-host-loopback --port-driver=builtin --copy-up=/etc --copy-up=/run /home/jovyan/bin/dockerd-rootless.sh --experimental --iptables=false --storage-driver vfs\r\n",
      "\u001b[33mWARN\u001b[0m[0000] \"builtin\" port driver is experimental        \r\n"
     ]
    },
    {
     "name": "stdout",
     "output_type": "stream",
     "text": [
      "[rootlesskit:parent] error: failed to start the child: fork/exec /proc/self/exe: permission denied\r\n"
     ]
    }
   ],
   "source": [
    "!sh -c export XDG_RUNTIME_DIR=/tmp/docker-1000 && export PATH=/home/jovyan/bin:$PATH && export DOCKER_HOST=unix:///tmp/docker-1000/docker.sock && /home/jovyan/bin/dockerd-rootless.sh --experimental --iptables=false --storage-driver vfs"
   ]
  },
  {
   "cell_type": "code",
   "execution_count": 8,
   "metadata": {},
   "outputs": [
    {
     "name": "stdout",
     "output_type": "stream",
     "text": [
      "Cannot connect to the Docker daemon at unix:///var/run/docker.sock. Is the docker daemon running?\r\n"
     ]
    }
   ],
   "source": [
    "!docker ps"
   ]
  },
  {
   "cell_type": "code",
   "execution_count": 9,
   "metadata": {},
   "outputs": [
    {
     "name": "stdout",
     "output_type": "stream",
     "text": [
      "lrwxrwxrwx 1 jovyan users 0 Oct 17 16:58 \u001b[0m\u001b[01;36m/proc/self/exe\u001b[0m -> \u001b[01;32m/bin/ls\u001b[0m*\r\n"
     ]
    }
   ],
   "source": [
    "ls -al /proc/self/exe"
   ]
  },
  {
   "cell_type": "code",
   "execution_count": 10,
   "metadata": {},
   "outputs": [
    {
     "name": "stdout",
     "output_type": "stream",
     "text": [
      "total 108\r\n",
      "drwsrwsr-x 1 jovyan users  4096 Oct 17 16:58 .\r\n",
      "drwxr-xr-x 1 root   root   4096 Aug 26  2017 ..\r\n",
      "-rw-r--r-- 1 jovyan root  18836 Oct 17 16:58 2D-spot-detection-ij.ipynb\r\n",
      "-rw-rw-r-- 1 jovyan users   220 Aug 31  2015 .bash_logout\r\n",
      "-rw-rw-r-- 1 jovyan users  3771 Aug 31  2015 .bashrc\r\n",
      "drwxr-sr-x 2 jovyan users  4096 Oct 17 16:52 bin\r\n",
      "drwsrwsr-x 1 jovyan users  4096 Aug 26  2017 .cache\r\n",
      "drwsrwsr-x 1 jovyan users  4096 Aug 26  2017 .conda\r\n",
      "drwsrwsr-x 1 jovyan users  4096 Aug 26  2017 .config\r\n",
      "drwxr-xr-x 1 jovyan root   4096 Oct 17 16:52 data\r\n",
      "-rw-r--r-- 1 jovyan root   1152 Oct 17 16:51 Dockerfile\r\n",
      "drwxr-xr-x 1 jovyan root   4096 Oct 17 16:51 .git\r\n",
      "drwxr-sr-x 2 jovyan users  4096 Oct 17 16:54 .ipynb_checkpoints\r\n",
      "drwxr-sr-x 5 jovyan users  4096 Oct 17 16:52 .ipython\r\n",
      "drwx--S--- 3 jovyan users  4096 Oct 17 16:51 .local\r\n",
      "-rw-rw-r-- 1 jovyan users   655 May 16  2017 .profile\r\n",
      "-rw-r--r-- 1 jovyan root    327 Oct 17 16:51 README.md\r\n",
      "-rw-r--r-- 1 jovyan root   9718 Oct 17 16:51 rootless.sh\r\n",
      "drwsrwsr-x 1 jovyan users  4096 Aug 26  2017 work\r\n"
     ]
    }
   ],
   "source": [
    "!ls -al"
   ]
  },
  {
   "cell_type": "code",
   "execution_count": null,
   "metadata": {
    "collapsed": true
   },
   "outputs": [],
   "source": []
  }
 ],
 "metadata": {
  "kernelspec": {
   "display_name": "Python 3",
   "language": "python",
   "name": "python3"
  },
  "language_info": {
   "codemirror_mode": {
    "name": "ipython",
    "version": 3
   },
   "file_extension": ".py",
   "mimetype": "text/x-python",
   "name": "python",
   "nbconvert_exporter": "python",
   "pygments_lexer": "ipython3",
   "version": "3.6.2"
  }
 },
 "nbformat": 4,
 "nbformat_minor": 2
}
